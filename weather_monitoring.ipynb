{
  "nbformat": 4,
  "nbformat_minor": 0,
  "metadata": {
    "colab": {
      "provenance": []
    },
    "kernelspec": {
      "name": "python3",
      "display_name": "Python 3"
    },
    "language_info": {
      "name": "python"
    }
  },
  "cells": [
    {
      "cell_type": "code",
      "source": [
        "!pip install requests pandas python-dotenv\n"
      ],
      "metadata": {
        "colab": {
          "base_uri": "https://localhost:8080/"
        },
        "id": "OjnJVDI31yBu",
        "outputId": "6224ac88-38b2-4c5e-9f64-368c0e1ce44d"
      },
      "execution_count": 2,
      "outputs": [
        {
          "output_type": "stream",
          "name": "stdout",
          "text": [
            "Requirement already satisfied: requests in /usr/local/lib/python3.10/dist-packages (2.32.3)\n",
            "Requirement already satisfied: pandas in /usr/local/lib/python3.10/dist-packages (2.2.2)\n",
            "Collecting python-dotenv\n",
            "  Downloading python_dotenv-1.0.1-py3-none-any.whl.metadata (23 kB)\n",
            "Requirement already satisfied: charset-normalizer<4,>=2 in /usr/local/lib/python3.10/dist-packages (from requests) (3.4.0)\n",
            "Requirement already satisfied: idna<4,>=2.5 in /usr/local/lib/python3.10/dist-packages (from requests) (3.10)\n",
            "Requirement already satisfied: urllib3<3,>=1.21.1 in /usr/local/lib/python3.10/dist-packages (from requests) (2.2.3)\n",
            "Requirement already satisfied: certifi>=2017.4.17 in /usr/local/lib/python3.10/dist-packages (from requests) (2024.8.30)\n",
            "Requirement already satisfied: numpy>=1.22.4 in /usr/local/lib/python3.10/dist-packages (from pandas) (1.26.4)\n",
            "Requirement already satisfied: python-dateutil>=2.8.2 in /usr/local/lib/python3.10/dist-packages (from pandas) (2.8.2)\n",
            "Requirement already satisfied: pytz>=2020.1 in /usr/local/lib/python3.10/dist-packages (from pandas) (2024.2)\n",
            "Requirement already satisfied: tzdata>=2022.7 in /usr/local/lib/python3.10/dist-packages (from pandas) (2024.2)\n",
            "Requirement already satisfied: six>=1.5 in /usr/local/lib/python3.10/dist-packages (from python-dateutil>=2.8.2->pandas) (1.16.0)\n",
            "Downloading python_dotenv-1.0.1-py3-none-any.whl (19 kB)\n",
            "Installing collected packages: python-dotenv\n",
            "Successfully installed python-dotenv-1.0.1\n"
          ]
        }
      ]
    },
    {
      "cell_type": "code",
      "source": [
        "API_KEY = \"bd69c45dfb5266f214c04858a0a3679c\"\n"
      ],
      "metadata": {
        "id": "CIsZ757BTfpZ"
      },
      "execution_count": 3,
      "outputs": []
    },
    {
      "cell_type": "code",
      "source": [
        "import requests\n",
        "import pandas as pd\n",
        "import time\n",
        "\n",
        "def get_weather(city):\n",
        "    url = f\"http://api.openweathermap.org/data/2.5/weather?q={city}&appid={API_KEY}\"\n",
        "    response = requests.get(url).json()\n",
        "    return {\n",
        "        'city': city,\n",
        "        'temperature': response['main']['temp'] - 273.15,  # Kelvin to Celsius\n",
        "        'condition': response['weather'][0]['main'],\n",
        "        'time': pd.to_datetime(response['dt'], unit='s')\n",
        "    }\n"
      ],
      "metadata": {
        "id": "znQu_j2zT32c"
      },
      "execution_count": 4,
      "outputs": []
    },
    {
      "cell_type": "code",
      "source": [
        "cities = [\"Delhi\", \"Mumbai\", \"Chennai\", \"Bangalore\", \"Kolkata\", \"Hyderabad\"]\n",
        "weather_data = []\n",
        "\n",
        "for city in cities:\n",
        "    data = get_weather(city)\n",
        "    weather_data.append(data)\n",
        "    print(data)\n",
        "    time.sleep(2)  # Avoid API rate limits\n",
        "\n",
        "df = pd.DataFrame(weather_data)\n",
        "print(df)\n"
      ],
      "metadata": {
        "colab": {
          "base_uri": "https://localhost:8080/"
        },
        "id": "CMA5jWMKuSm4",
        "outputId": "ba0b336a-300b-4902-9371-77a8b4376d37"
      },
      "execution_count": 5,
      "outputs": [
        {
          "output_type": "stream",
          "name": "stdout",
          "text": [
            "{'city': 'Delhi', 'temperature': 29.05000000000001, 'condition': 'Haze', 'time': Timestamp('2024-10-20 14:12:39')}\n",
            "{'city': 'Mumbai', 'temperature': 28.99000000000001, 'condition': 'Thunderstorm', 'time': Timestamp('2024-10-20 14:22:45')}\n",
            "{'city': 'Chennai', 'temperature': 28.980000000000018, 'condition': 'Clouds', 'time': Timestamp('2024-10-20 14:15:39')}\n",
            "{'city': 'Bangalore', 'temperature': 22.920000000000016, 'condition': 'Rain', 'time': Timestamp('2024-10-20 14:14:42')}\n",
            "{'city': 'Kolkata', 'temperature': 28.970000000000027, 'condition': 'Haze', 'time': Timestamp('2024-10-20 14:11:10')}\n",
            "{'city': 'Hyderabad', 'temperature': 26.230000000000018, 'condition': 'Haze', 'time': Timestamp('2024-10-20 14:11:43')}\n",
            "        city  temperature     condition                time\n",
            "0      Delhi        29.05          Haze 2024-10-20 14:12:39\n",
            "1     Mumbai        28.99  Thunderstorm 2024-10-20 14:22:45\n",
            "2    Chennai        28.98        Clouds 2024-10-20 14:15:39\n",
            "3  Bangalore        22.92          Rain 2024-10-20 14:14:42\n",
            "4    Kolkata        28.97          Haze 2024-10-20 14:11:10\n",
            "5  Hyderabad        26.23          Haze 2024-10-20 14:11:43\n"
          ]
        }
      ]
    },
    {
      "cell_type": "code",
      "source": [
        "def alert_if_hot(city_data, threshold=35):\n",
        "    if city_data['temperature'] > threshold:\n",
        "        print(f\"Alert: {city_data['city']} is too hot!\")\n",
        "\n",
        "for city in weather_data:\n",
        "    alert_if_hot(city)\n",
        "\n",
        "import matplotlib.pyplot as plt\n",
        "\n",
        "df.plot(x='city', y='temperature', kind='bar', color='skyblue')\n",
        "plt.title('Temperature by City')\n",
        "plt.ylabel('Temperature (°C)')\n",
        "plt.show()\n"
      ],
      "metadata": {
        "colab": {
          "base_uri": "https://localhost:8080/",
          "height": 534
        },
        "id": "UNaZIeNlT-nZ",
        "outputId": "74a9c5b5-afd5-4f2e-fc33-4dfd5412ef68"
      },
      "execution_count": 6,
      "outputs": [
        {
          "output_type": "display_data",
          "data": {
            "text/plain": [
              "<Figure size 640x480 with 1 Axes>"
            ],
            "image/png": "[encoded data removed]"
          },
          "metadata": {}
        }
      ]
    },
    {
      "cell_type": "code",
      "source": [],
      "metadata": {
        "id": "dICID_JgUDJP"
      },
      "execution_count": null,
      "outputs": []
    }
  ]
}