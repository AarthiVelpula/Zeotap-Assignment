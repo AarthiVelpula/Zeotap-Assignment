{
  "nbformat": 4,
  "nbformat_minor": 0,
  "metadata": {
    "colab": {
      "provenance": []
    },
    "kernelspec": {
      "name": "python3",
      "display_name": "Python 3"
    },
    "language_info": {
      "name": "python"
    }
  },
  "cells": [
    {
      "cell_type": "code",
      "source": [
        "!pip install requests pandas python-dotenv\n"
      ],
      "metadata": {
        "colab": {
          "base_uri": "https://localhost:8080/",
          "height": 0
        },
        "id": "zRv_EDc41tH7",
        "outputId": "cfc92f04-a4a4-44f5-928b-23e84efcccff"
      },
      "execution_count": 18,
      "outputs": [
        {
          "output_type": "stream",
          "name": "stdout",
          "text": [
            "Requirement already satisfied: requests in /usr/local/lib/python3.10/dist-packages (2.32.3)\n",
            "Requirement already satisfied: pandas in /usr/local/lib/python3.10/dist-packages (2.2.2)\n",
            "Collecting python-dotenv\n",
            "  Downloading python_dotenv-1.0.1-py3-none-any.whl.metadata (23 kB)\n",
            "Requirement already satisfied: charset-normalizer<4,>=2 in /usr/local/lib/python3.10/dist-packages (from requests) (3.4.0)\n",
            "Requirement already satisfied: idna<4,>=2.5 in /usr/local/lib/python3.10/dist-packages (from requests) (3.10)\n",
            "Requirement already satisfied: urllib3<3,>=1.21.1 in /usr/local/lib/python3.10/dist-packages (from requests) (2.2.3)\n",
            "Requirement already satisfied: certifi>=2017.4.17 in /usr/local/lib/python3.10/dist-packages (from requests) (2024.8.30)\n",
            "Requirement already satisfied: numpy>=1.22.4 in /usr/local/lib/python3.10/dist-packages (from pandas) (1.26.4)\n",
            "Requirement already satisfied: python-dateutil>=2.8.2 in /usr/local/lib/python3.10/dist-packages (from pandas) (2.8.2)\n",
            "Requirement already satisfied: pytz>=2020.1 in /usr/local/lib/python3.10/dist-packages (from pandas) (2024.2)\n",
            "Requirement already satisfied: tzdata>=2022.7 in /usr/local/lib/python3.10/dist-packages (from pandas) (2024.2)\n",
            "Requirement already satisfied: six>=1.5 in /usr/local/lib/python3.10/dist-packages (from python-dateutil>=2.8.2->pandas) (1.16.0)\n",
            "Downloading python_dotenv-1.0.1-py3-none-any.whl (19 kB)\n",
            "Installing collected packages: python-dotenv\n",
            "Successfully installed python-dotenv-1.0.1\n"
          ]
        }
      ]
    },
    {
      "cell_type": "code",
      "source": [
        "class Node:\n",
        "    def __init__(self, type, value=None, left=None, right=None):\n",
        "        self.type = type  # 'operator' or 'operand'\n",
        "        self.value = value  # Operand value or operator (e.g., 'AND')\n",
        "        self.left = left  # Left child node\n",
        "        self.right = right  # Right child node\n"
      ],
      "metadata": {
        "id": "WixF90yT227p"
      },
      "execution_count": 10,
      "outputs": []
    },
    {
      "cell_type": "code",
      "source": [
        "def create_rule(rule_string):\n",
        "    # Parsing logic can be complex; here we create a simple rule as an example\n",
        "    if \"age\" in rule_string and \"department\" in rule_string:\n",
        "        return Node('operator', 'AND',\n",
        "                    Node('operand', {'age': '>30'}),\n",
        "                    Node('operand', {'department': \"'Sales'\"}))\n",
        "    return None\n"
      ],
      "metadata": {
        "id": "kQif_sKzskwr"
      },
      "execution_count": 12,
      "outputs": []
    },
    {
      "cell_type": "code",
      "source": [
        "def evaluate_rule(ast, user_data):\n",
        "    try:\n",
        "        if ast.type == 'operand':\n",
        "            key, condition = list(ast.value.items())[0]\n",
        "\n",
        "            # Handle string comparisons\n",
        "            if isinstance(user_data[key], str):\n",
        "                condition_value = condition.strip(\"'\")\n",
        "                return user_data[key] == condition_value\n",
        "\n",
        "            # Handle numeric comparisons\n",
        "            return eval(f\"{user_data[key]} {condition}\")\n",
        "\n",
        "        elif ast.type == 'operator':\n",
        "            if ast.value == 'AND':\n",
        "                return evaluate_rule(ast.left, user_data) and evaluate_rule(ast.right, user_data)\n",
        "            elif ast.value == 'OR':\n",
        "                return evaluate_rule(ast.left, user_data) or evaluate_rule(ast.right, user_data)\n",
        "\n",
        "        return False\n",
        "    except KeyError as e:\n",
        "        print(f\"Error: Missing key {e} in user data.\")\n",
        "        return False\n",
        "    except Exception as e:\n",
        "        print(f\"Error evaluating rule: {e}\")\n",
        "        return False\n"
      ],
      "metadata": {
        "id": "Nr8efnpWq340"
      },
      "execution_count": 6,
      "outputs": []
    },
    {
      "cell_type": "code",
      "source": [
        "import sqlite3\n",
        "\n",
        "# Initialize SQLite database\n",
        "conn = sqlite3.connect('rules.db')\n",
        "cursor = conn.cursor()\n",
        "\n",
        "# Create the table if it doesn't exist\n",
        "cursor.execute(\"CREATE TABLE IF NOT EXISTS rules (id INTEGER PRIMARY KEY, rule TEXT)\")\n",
        "\n",
        "# Function to store new rules\n",
        "def store_rule(rule_string):\n",
        "    cursor.execute(\"INSERT INTO rules (rule) VALUES (?)\", (rule_string,))\n",
        "    conn.commit()\n",
        "    print(\"New rule stored successfully.\")\n",
        "\n",
        "# Function to modify existing rules\n",
        "def modify_rule(rule_id, new_rule_string):\n",
        "    cursor.execute(\"UPDATE rules SET rule = ? WHERE id = ?\", (new_rule_string, rule_id))\n",
        "    conn.commit()\n",
        "    print(f\"Rule {rule_id} updated successfully.\")\n",
        "\n",
        "# Example usage\n",
        "store_rule(\"age > 30 AND department = 'Sales'\")  # Store a new rule\n",
        "modify_rule(1, \"age > 25 AND department = 'Marketing'\")  # Modify the rule with ID 1\n"
      ],
      "metadata": {
        "colab": {
          "base_uri": "https://localhost:8080/",
          "height": 0
        },
        "id": "aib8Cl8grzg7",
        "outputId": "23615a3f-75ac-47cb-9653-b60c58ce859e"
      },
      "execution_count": 7,
      "outputs": [
        {
          "output_type": "stream",
          "name": "stdout",
          "text": [
            "New rule stored successfully.\n",
            "Rule 1 updated successfully.\n"
          ]
        }
      ]
    },
    {
      "cell_type": "code",
      "source": [
        "# User data and rule\n",
        "user_data = {'age': 35, 'department': 'Sales'}\n",
        "rule = create_rule(\"age > 30 AND department = 'Sales'\")\n",
        "\n",
        "# Evaluate the rule\n",
        "print(evaluate_rule(rule, user_data))  # Expected Output: True\n",
        "\n",
        "# Test with different data\n",
        "user_data = {'age': 28, 'department': 'Marketing'}\n",
        "rule = create_rule(\"age > 25 AND department = 'Marketing'\")\n",
        "print(evaluate_rule(rule, user_data))  # Expected Output: True\n"
      ],
      "metadata": {
        "colab": {
          "base_uri": "https://localhost:8080/",
          "height": 0
        },
        "id": "T6MJEQZHr_E_",
        "outputId": "d5f4ebd7-5ede-49ed-a813-87e372bbea0c"
      },
      "execution_count": 14,
      "outputs": [
        {
          "output_type": "stream",
          "name": "stdout",
          "text": [
            "True\n",
            "False\n"
          ]
        }
      ]
    }
  ]
}